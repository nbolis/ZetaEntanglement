{
 "cells": [
  {
   "cell_type": "markdown",
   "metadata": {},
   "source": [
    "# Zeta Entanglement ODE Solver"
   ]
  },
  {
   "cell_type": "code",
   "execution_count": 15,
   "metadata": {},
   "outputs": [
    {
     "ename": "ImportError",
     "evalue": "cannot import name solve_ivp",
     "output_type": "error",
     "traceback": [
      "\u001b[0;31m---------------------------------------------------------------------------\u001b[0m",
      "\u001b[0;31mImportError\u001b[0m                               Traceback (most recent call last)",
      "\u001b[0;32m<ipython-input-15-98c531abf747>\u001b[0m in \u001b[0;36m<module>\u001b[0;34m()\u001b[0m\n\u001b[1;32m      1\u001b[0m \u001b[0;32mimport\u001b[0m \u001b[0mnumpy\u001b[0m \u001b[0;32mas\u001b[0m \u001b[0mnp\u001b[0m\u001b[0;34m\u001b[0m\u001b[0m\n\u001b[0;32m----> 2\u001b[0;31m \u001b[0;32mfrom\u001b[0m \u001b[0mscipy\u001b[0m\u001b[0;34m.\u001b[0m\u001b[0mintegrate\u001b[0m \u001b[0;32mimport\u001b[0m \u001b[0msolve_ivp\u001b[0m\u001b[0;34m\u001b[0m\u001b[0m\n\u001b[0m\u001b[1;32m      3\u001b[0m \u001b[0;32mfrom\u001b[0m \u001b[0mode_helpers\u001b[0m \u001b[0;32mimport\u001b[0m \u001b[0mstate_plotter\u001b[0m\u001b[0;34m\u001b[0m\u001b[0m\n",
      "\u001b[0;31mImportError\u001b[0m: cannot import name solve_ivp"
     ]
    }
   ],
   "source": [
    "import numpy as np\n",
    "from scipy.integrate import solve_ivp\n",
    "from ode_helpers import state_plotter"
   ]
  },
  {
   "cell_type": "markdown",
   "metadata": {},
   "source": [
    "## ODEs \n",
    "\\begin{equation}\n",
    "\\partial_u^2 f_q (u) + \\Omega_f(u, q) f_q(u) = \\frac{S_{Eq}(u) f_q(u)}{q^2 (\\epsilon-1)^2}\n",
    "\\end{equation}\n",
    "\n",
    "\\begin{equation}\n",
    "\\partial_u^2 g_q (u) + \\Omega_g(u, q) g_q(u) = \\frac{S_{Eq}(u) g_q(u)}{q^2 (\\epsilon-1)^2}\n",
    "\\end{equation}\n",
    "\n",
    "\\begin{equation}\n",
    "\\partial_u \\Lambda_q(u) = i \\Omega_{\\Lambda}(u, q) f_q(u) g_q(u) \\sigma(u)\n",
    "\\end{equation}\n",
    "\n",
    "where: \n",
    "\\begin{equation}\n",
    "S_{Eq}(u) = \\frac{\\Lambda_q^2(u)}{ (f_q(u) g_q(u))^2} + \\frac{\\epsilon}{2} c_s^2 q^2 (\\epsilon-1)^2 (\\partial_u \\sigma(u))^2\n",
    "\\end{equation}\n",
    "\n",
    "\\begin{equation}\n",
    "\\Lambda_q(u) = \\lambda_q(u) + i c_s \\sqrt{\\frac{\\epsilon}{2}} q (\\epsilon -1) f_q(u) g_q(u) \\partial_u \\sigma(u)\n",
    "\\end{equation}\n",
    "\n",
    "and \n",
    "\n",
    "\\begin{equation}\n",
    "\\Omega_f(u, q)  = \\frac{c_s^2}{(\\epsilon -1)^2} - \\frac{(2-\\epsilon)}{(\\epsilon-1)^2} u^{-2} \n",
    "\\end{equation}\n",
    "\n",
    "\\begin{equation}\n",
    "\\Omega_g(u, q)  = \\frac{c_s^2}{(\\epsilon -1)^2} - \\frac{(2-\\epsilon)}{(\\epsilon-1)^2} u^{-2} + \\frac{m_{\\sigma}^2}{(\\epsilon -1)^2 } q^{-\\frac{2 \\epsilon}{\\epsilon-1}} u^{\\frac{2}{\\epsilon -1}} \n",
    "\\end{equation}\n",
    "\n",
    "\\begin{equation}\n",
    "\\Omega_{\\Lambda}(u, q)  =c_s \\frac{\\sqrt{2 \\epsilon}}{1-\\epsilon} u^{\\frac{2}{\\epsilon -1}} q^{\\frac{1+\\epsilon}{1-\\epsilon}} m_{\\sigma}^2 \n",
    "\\end{equation}\n",
    "\n",
    "The backgound equation for $\\sigma(u)$ will be solved analytically in Mathematica. For reference it is:\n",
    "\n",
    "\\begin{equation}\n",
    "\\partial^2_u \\sigma(u) + \\frac{2}{\\epsilon -1} u^{-1} \\partial_u \\sigma(u) + \\frac{m_{\\sigma}^2 }{(\\epsilon -1)^2} q^{-\\frac{2 \\epsilon}{\\epsilon -1}} u^{\\frac{2}{\\epsilon-1}} \\sigma(u) = 0\n",
    "\\end{equation}"
   ]
  },
  {
   "cell_type": "markdown",
   "metadata": {},
   "source": [
    "Solution for $\\sigma(u)$ with no initial conditions ($C1, C2$ are integration constants):\n",
    "\n",
    "\\begin{equation}\n",
    "\\sigma(u) = 2^{\\frac{5}{4} -\\frac{ 9}{ 4 \\epsilon}} u^{\\frac{3-\\epsilon}{2(1-\\epsilon)}} (1-\\epsilon)^{\\frac{1}{1-\\epsilon}} \\left( - \\frac{m_{\\sigma}^2 q^{-\\frac{2 \\epsilon}{\\epsilon -1}} }{\\epsilon^2}  \\right)^{\\frac{3-\\epsilon}{4 \\epsilon}} \\left( C1\\; \\text{Bessel}_I \\left[\\frac{\\epsilon-3}{2 \\epsilon}, \\sqrt{-\\frac{m_{\\sigma}^2 q^{-\\frac{2 \\epsilon}{\\epsilon-1}} u^{\\frac{2 \\epsilon}{\\epsilon -1}}}{\\epsilon^2}}\\right] -  i^{\\frac{3+\\epsilon}{\\epsilon}} C2 \\;\\text{Bessel}_K \\left[\\frac{\\epsilon-3}{2 \\epsilon}, \\sqrt{-\\frac{m_{\\sigma}^2 q^{-\\frac{2 \\epsilon}{\\epsilon-1}} u^{\\frac{2 \\epsilon}{\\epsilon -1}}}{\\epsilon^2}}\\right] \\right) \n",
    "\\end{equation}"
   ]
  },
  {
   "cell_type": "markdown",
   "metadata": {},
   "source": [
    "## Constaints\n",
    "\n",
    "- $\\epsilon$:  slow roll parameter\n",
    "- $c_s$: sound speed\n",
    "- $m_{\\sigma}$: mass of $\\Sigma$ field"
   ]
  },
  {
   "cell_type": "code",
   "execution_count": 7,
   "metadata": {},
   "outputs": [],
   "source": [
    "epsilon, c_s, m_sigma = 0.1, 0.99, 1"
   ]
  },
  {
   "cell_type": "markdown",
   "metadata": {},
   "source": [
    "## Defining functions"
   ]
  },
  {
   "cell_type": "markdown",
   "metadata": {},
   "source": [
    "## $\\sigma(u), \\; \\sigma'(u)$"
   ]
  },
  {
   "cell_type": "code",
   "execution_count": null,
   "metadata": {},
   "outputs": [],
   "source": [
    "def Sig(u, q):\n",
    "    return "
   ]
  },
  {
   "cell_type": "code",
   "execution_count": null,
   "metadata": {},
   "outputs": [],
   "source": [
    "def SigD(u, q):\n",
    "    return "
   ]
  },
  {
   "cell_type": "markdown",
   "metadata": {},
   "source": [
    "## $\\Omega_f, \\Omega_g, \\Omega_{\\Lambda} $"
   ]
  },
  {
   "cell_type": "code",
   "execution_count": 8,
   "metadata": {},
   "outputs": [],
   "source": [
    "def Omega_f(u, q):\n",
    "    return (c_s**2 - (2- epsilon)/u**2)/((epsilon - 1.)**2)"
   ]
  },
  {
   "cell_type": "code",
   "execution_count": 9,
   "metadata": {},
   "outputs": [],
   "source": [
    "def Omega_g(u, q):\n",
    "    return (c_s**2 + (m_sigma**2)* (q**(-2* epsilon /(epsilon -1.))) * (u**(2/(epsilon -1)))  - (2- epsilon)/u**2)/((epsilon - 1.)**2)"
   ]
  },
  {
   "cell_type": "code",
   "execution_count": 10,
   "metadata": {},
   "outputs": [],
   "source": [
    "def Omega_L(u, q):\n",
    "    return c_s * np.sqrt(2* epsilon) * (q**((1+epsilon) /(1. -epsilon))) * (u**(2/(epsilon -1))) * (m_sigma**2) / (1. - epsilon)"
   ]
  },
  {
   "cell_type": "markdown",
   "metadata": {},
   "source": [
    "## $S_{Eq}$"
   ]
  },
  {
   "cell_type": "code",
   "execution_count": 17,
   "metadata": {},
   "outputs": [],
   "source": [
    "def SEq(u, q, f, g, L):\n",
    "    return ((L**2)/(f* g)**2) + (epsilon/2.0) *(c_s**2) * (q**2) * ((epsilon -1)**2) * (SigD(u, q))**2"
   ]
  },
  {
   "cell_type": "markdown",
   "metadata": {},
   "source": [
    "## Differential Equation Function\n",
    "\n",
    "### Redefining as first order equations \n",
    "\n",
    "\\begin{equation}\n",
    "F_q(u) = f'_q(u), \\quad \\partial_u F_q (u) + \\Omega_f(u, q) f_q(u) = \\frac{S_{Eq}(u) f_q(u)}{q^2 (\\epsilon-1)^2}\n",
    "\\end{equation}\n",
    "\n",
    "\\begin{equation}\n",
    "G_q(u) = g'_q(u), \\quad \\partial_u G_q (u) + \\Omega_g(u, q) g_q(u) = \\frac{S_{Eq}(u) g_q(u)}{q^2 (\\epsilon-1)^2}\n",
    "\\end{equation}\n",
    "\n",
    "### Notation:\n",
    "\n",
    "- $\\Lambda_q : y[0]$\n",
    "- $f_q : y[1]$\n",
    "- $F_q : y[2]$\n",
    "- $g_q : y[3]$\n",
    "- $G_q : y[4]$\n"
   ]
  },
  {
   "cell_type": "code",
   "execution_count": 18,
   "metadata": {},
   "outputs": [],
   "source": [
    "def diff(t, y):\n",
    "    dydt = [1j * Omega_L(u, q) * y[1] * y[3] * Sig(u, q), y[2], (SEq(u,q,y[1],y[3],y[0]) * y[1]/((q**2)*(epsilon-1)**2)) - Omega_f(u,q) * y[1] , y[4],  (SEq(u,q,y[1],y[3],y[0]) * y[3]/((q**2)*(epsilon-1)**2)) - Omega_g(u,q) * y[3] ]\n",
    "    return dytd"
   ]
  },
  {
   "cell_type": "code",
   "execution_count": 19,
   "metadata": {},
   "outputs": [],
   "source": [
    "tspan = np.linspace(-100, -0.0001, 100)"
   ]
  },
  {
   "cell_type": "code",
   "execution_count": null,
   "metadata": {},
   "outputs": [],
   "source": [
    "yinit = [Lam_ini, F_ini, f_ini, G_ini, g_ini]"
   ]
  },
  {
   "cell_type": "code",
   "execution_count": null,
   "metadata": {},
   "outputs": [],
   "source": [
    "sol = solve_ivp(lambda t, y: diff(t, y), [tspan[0], tspan[-1]], yinit, t_eval=tspan)"
   ]
  },
  {
   "cell_type": "code",
   "execution_count": 14,
   "metadata": {},
   "outputs": [
    {
     "ename": "NameError",
     "evalue": "name 'solve_ivp' is not defined",
     "output_type": "error",
     "traceback": [
      "\u001b[0;31m---------------------------------------------------------------------------\u001b[0m",
      "\u001b[0;31mNameError\u001b[0m                                 Traceback (most recent call last)",
      "\u001b[0;32m<ipython-input-14-63584769e151>\u001b[0m in \u001b[0;36m<module>\u001b[0;34m()\u001b[0m\n\u001b[1;32m      9\u001b[0m \u001b[0;34m\u001b[0m\u001b[0m\n\u001b[1;32m     10\u001b[0m \u001b[0;31m# %% Solve differential equation\u001b[0m\u001b[0;34m\u001b[0m\u001b[0;34m\u001b[0m\u001b[0m\n\u001b[0;32m---> 11\u001b[0;31m sol = solve_ivp(lambda t, y: f(t, y, c), \n\u001b[0m\u001b[1;32m     12\u001b[0m                 [tspan[0], tspan[-1]], yinit, t_eval=tspan)\n\u001b[1;32m     13\u001b[0m \u001b[0;34m\u001b[0m\u001b[0m\n",
      "\u001b[0;31mNameError\u001b[0m: name 'solve_ivp' is not defined"
     ]
    }
   ],
   "source": [
    "def f(t, y, c):\n",
    "    dydt = [c[0]*np.cos(c[1]*t), c[2]*y[0]+c[3]*t]\n",
    "    return dydt\n",
    "\n",
    "# %% Define time spans, initial values, and constants\n",
    "tspan = np.linspace(0, 5, 100)\n",
    "yinit = [0, -3]\n",
    "c = [4, 3, -2, 0.5]\n",
    "\n",
    "# %% Solve differential equation\n",
    "sol = solve_ivp(lambda t, y: f(t, y, c), [tspan[0], tspan[-1]], yinit, t_eval=tspan)\n",
    "\n",
    "# %% Plot states\n",
    "state_plotter(sol.t, sol.y, 1)"
   ]
  },
  {
   "cell_type": "code",
   "execution_count": null,
   "metadata": {},
   "outputs": [],
   "source": []
  }
 ],
 "metadata": {
  "kernelspec": {
   "display_name": "Python 2",
   "language": "python",
   "name": "python2"
  },
  "language_info": {
   "codemirror_mode": {
    "name": "ipython",
    "version": 2
   },
   "file_extension": ".py",
   "mimetype": "text/x-python",
   "name": "python",
   "nbconvert_exporter": "python",
   "pygments_lexer": "ipython2",
   "version": "2.7.10"
  }
 },
 "nbformat": 4,
 "nbformat_minor": 2
}
