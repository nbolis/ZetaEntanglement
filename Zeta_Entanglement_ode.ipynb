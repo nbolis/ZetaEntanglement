{
 "cells": [
  {
   "cell_type": "markdown",
   "metadata": {},
   "source": [
    "# Zeta Entanglement ODE Solver"
   ]
  },
  {
   "cell_type": "code",
   "execution_count": 6,
   "metadata": {},
   "outputs": [],
   "source": [
    "import numpy as np\n",
    "#from scipy.integrate import solve_ivp\n",
    "#from ode_helpers import state_plotter"
   ]
  },
  {
   "cell_type": "markdown",
   "metadata": {},
   "source": [
    "## ODEs \n",
    "\\begin{equation}\n",
    "\\partial_u^2 f_q (u) + \\Omega_f(u, q) f_q(u) = \\frac{S_{Eq}(u) f_q(u)}{q^2 (\\epsilon-1)^2}\n",
    "\\end{equation}\n",
    "\n",
    "\\begin{equation}\n",
    "\\partial_u^2 g_q (u) + \\Omega_g(u, q) g_q(u) = \\frac{S_{Eq}(u) g_q(u)}{q^2 (\\epsilon-1)^2}\n",
    "\\end{equation}\n",
    "\n",
    "\\begin{equation}\n",
    "\\partial_u \\Lambda_q(u) = i \\Omega_{\\Lambda}(u, q) f_q(u) g_q(u) \\sigma(u)\n",
    "\\end{equation}\n",
    "\n",
    "where: \n",
    "\\begin{equation}\n",
    "S_{Eq}(u) = \\frac{\\Lambda_q^2(u)}{ (f_q(u) g_q(u))^2} + \\frac{\\epsilon}{2} c_s^2 q^2 (\\epsilon-1)^2 (\\partial_u \\sigma(u))^2\n",
    "\\end{equation}\n",
    "\n",
    "\\begin{equation}\n",
    "\\Lambda_q(u) = \\lambda_q(u) + i c_s \\sqrt{\\frac{\\epsilon}{2}} q (\\epsilon -1) f_q(u) g_q(u) \\partial_u \\sigma(u)\n",
    "\\end{equation}\n",
    "\n",
    "and \n",
    "\n",
    "\\begin{equation}\n",
    "\\Omega_f(u, q)  = \\frac{c_s^2}{(\\epsilon -1)^2} - \\frac{(2-\\epsilon)}{(\\epsilon-1)^2} u^{-2} \n",
    "\\end{equation}\n",
    "\n",
    "\\begin{equation}\n",
    "\\Omega_g(u, q)  = \\frac{c_s^2}{(\\epsilon -1)^2} - \\frac{(2-\\epsilon)}{(\\epsilon-1)^2} u^{-2} + \\frac{m_{\\sigma}^2}{(\\epsilon -1)^2 } q^{-\\frac{2 \\epsilon}{\\epsilon-1}} u^{\\frac{2}{\\epsilon -1}} \n",
    "\\end{equation}\n",
    "\n",
    "\\begin{equation}\n",
    "\\Omega_{\\Lambda}(u, q)  =c_s \\frac{\\sqrt{2 \\epsilon}}{1-\\epsilon} u^{\\frac{2}{\\epsilon -1}} q^{\\frac{1+\\epsilon}{1-\\epsilon}} m_{\\sigma}^2 \n",
    "\\end{equation}\n",
    "\n",
    "The backgound equation for $\\sigma(u)$ will be solved analytically in Mathematica. For reference it is:\n",
    "\n",
    "\\begin{equation}\n",
    "\\partial^2_u \\sigma(u) - 2 u^{-1} \\partial_u \\sigma(u) + m_{\\sigma}^2 u^{-2} \\sigma(u) = 0\n",
    "\\end{equation}"
   ]
  },
  {
   "cell_type": "markdown",
   "metadata": {},
   "source": [
    "Solution for $\\sigma(u)$ with $\\sigma(u_0)=\\sigma_0, \\sigma'(u_0)=0$ :\n",
    "\n",
    "\\begin{eqnarray}\n",
    "\\sigma(u) = \\frac{\\sigma_0}{2 \\sqrt{9-4 m_{\\sigma}^2}} \\left( \\left(\\sqrt{9-4 m_{\\sigma}^2}-3 \\right) \\left(\\frac{u}{u_0}\\right)^{\\frac{3+\\sqrt{9-4 m_{\\sigma}^2}}{2}} + \\left(\\sqrt{9-4 m_{\\sigma}^2}+3\\right) \\left(\\frac{u}{u_0}\\right)^{\\frac{3-\\sqrt{9-4 m_{\\sigma}^2}}{2}} \\right)\n",
    "\\end{eqnarray}\n",
    "\n",
    "\\begin{eqnarray}\n",
    "\\sigma(u) = \\frac{\\sigma_0 m_{\\sigma}^2 }{u_0 \\sqrt{9-4 m_{\\sigma}^2}} \\left(  \\left(\\frac{u}{u_0}\\right)^{\\frac{1-\\sqrt{9-4 m_{\\sigma}^2}}{2}} - \\left(\\frac{u}{u_0}\\right)^{\\frac{1+\\sqrt{9-4 m_{\\sigma}^2}}{2}} \\right)\n",
    "\\end{eqnarray}"
   ]
  },
  {
   "cell_type": "markdown",
   "metadata": {},
   "source": [
    "## Constaints\n",
    "\n",
    "- $\\epsilon$:  slow roll parameter\n",
    "- $c_s$: sound speed\n",
    "- $m_{\\sigma}$: mass of $\\Sigma$ field\n",
    "- $\\sigma_0$: initial value of $\\sigma$\n",
    "- $u_0$: initial value of $u$"
   ]
  },
  {
   "cell_type": "code",
   "execution_count": 7,
   "metadata": {},
   "outputs": [],
   "source": [
    "epsilon, c_s, m_sigma, sigma0, u0 = 1, 0.99, 1, 1, 1"
   ]
  },
  {
   "cell_type": "markdown",
   "metadata": {},
   "source": [
    "## Defining functions"
   ]
  },
  {
   "cell_type": "markdown",
   "metadata": {},
   "source": [
    "## $\\sigma(u), \\; \\sigma'(u)$"
   ]
  },
  {
   "cell_type": "code",
   "execution_count": 8,
   "metadata": {},
   "outputs": [],
   "source": [
    "def Sig(u, q):\n",
    "    return sigma0 * ((np.sqrt(9- 4* m_sigma**2) -3) * (u/u0)**((3 + np.sqrt(9-4* m_sigma**2))/2.0) + (np.sqrt(9- 4* m_sigma**2) +3) * (u/u0)**((3 - np.sqrt(9-4* m_sigma**2))/2.0))/(2* np.sqrt(9-4* m_sigma**2)) "
   ]
  },
  {
   "cell_type": "code",
   "execution_count": 9,
   "metadata": {},
   "outputs": [],
   "source": [
    "def SigD(u, q):\n",
    "    return sigma0 * (m_sigma**2) * ((u/u0)**((1- np.sqrt(9-4* m_sigma**2))/2.0) - (u/u0)**((1+ np.sqrt(9-4* m_sigma**2))/2.0))/(u0* np.sqrt(9-4* m_sigma**2)) "
   ]
  },
  {
   "cell_type": "markdown",
   "metadata": {},
   "source": [
    "## $\\Omega_f, \\Omega_g, \\Omega_{\\Lambda} $"
   ]
  },
  {
   "cell_type": "code",
   "execution_count": null,
   "metadata": {},
   "outputs": [],
   "source": [
    "def Omega_f(u, q):\n",
    "    return (c_s**2 - (2- epsilon)/u**2)/((epsilon - 1.)**2)"
   ]
  },
  {
   "cell_type": "code",
   "execution_count": null,
   "metadata": {},
   "outputs": [],
   "source": [
    "def Omega_g(u, q):\n",
    "    return (c_s**2 + (m_sigma**2)* (q**(-2* epsilon /(epsilon -1.))) * (u**(2/(epsilon -1)))  - (2- epsilon)/u**2)/((epsilon - 1.)**2)"
   ]
  },
  {
   "cell_type": "code",
   "execution_count": null,
   "metadata": {},
   "outputs": [],
   "source": [
    "def Omega_L(u, q):\n",
    "    return c_s * np.sqrt(2* epsilon) * (q**((1+epsilon) /(1. -epsilon))) * (u**(2/(epsilon -1))) * (m_sigma**2) / (1. - epsilon)"
   ]
  },
  {
   "cell_type": "markdown",
   "metadata": {},
   "source": [
    "## $S_{Eq}$"
   ]
  },
  {
   "cell_type": "code",
   "execution_count": null,
   "metadata": {},
   "outputs": [],
   "source": [
    "def SEq(u, q, f, g, L):\n",
    "    return ((L**2)/(f* g)**2) + (epsilon/2.0) *(c_s**2) * (q**2) * ((epsilon -1)**2) * (SigD(u, q))**2"
   ]
  },
  {
   "cell_type": "markdown",
   "metadata": {},
   "source": [
    "## Differential Equation Function\n",
    "\n",
    "### Redefining as first order equations \n",
    "\n",
    "\\begin{equation}\n",
    "F_q(u) = f_q'(u), \\quad \\partial_u F_q (u) + \\Omega_f(u, q) f_q(u) = \\frac{S_{Eq}(u) f_q(u)}{q^2 (\\epsilon-1)^2}\n",
    "\\end{equation}\n",
    "\n",
    "\\begin{equation}\n",
    "G_q(u) = g_q'(u), \\quad \\partial_u G_q (u) + \\Omega_g(u, q) g_q(u) = \\frac{S_{Eq}(u) g_q(u)}{q^2 (\\epsilon-1)^2}\n",
    "\\end{equation}\n",
    "\n",
    "### Notation:\n",
    "\n",
    "- $\\Lambda_q : y[0]$\n",
    "- $f_q : y[1]$\n",
    "- $F_q : y[2]$\n",
    "- $g_q : y[3]$\n",
    "- $G_q : y[4]$\n"
   ]
  },
  {
   "cell_type": "code",
   "execution_count": null,
   "metadata": {},
   "outputs": [],
   "source": [
    "def diff(t, y):\n",
    "    dydt = [1j * Omega_L(u, q) * y[1] * y[3] * Sig(u, q), y[2], (SEq(u,q,y[1],y[3],y[0]) * y[1]/((q**2)*(epsilon-1)**2)) - Omega_f(u,q) * y[1] , y[4],  (SEq(u,q,y[1],y[3],y[0]) * y[3]/((q**2)*(epsilon-1)**2)) - Omega_g(u,q) * y[3] ]\n",
    "    return dytd"
   ]
  },
  {
   "cell_type": "code",
   "execution_count": null,
   "metadata": {},
   "outputs": [],
   "source": [
    "tspan = np.linspace(-100, -0.0001, 100)"
   ]
  },
  {
   "cell_type": "code",
   "execution_count": null,
   "metadata": {},
   "outputs": [],
   "source": [
    "yinit = [Lam_ini, F_ini, f_ini, G_ini, g_ini]"
   ]
  },
  {
   "cell_type": "code",
   "execution_count": null,
   "metadata": {},
   "outputs": [],
   "source": [
    "sol = solve_ivp(lambda t, y: diff(t, y), [tspan[0], tspan[-1]], yinit, t_eval=tspan)"
   ]
  },
  {
   "cell_type": "code",
   "execution_count": null,
   "metadata": {},
   "outputs": [],
   "source": [
    "def f(t, y, c):\n",
    "    dydt = [c[0]*np.cos(c[1]*t), c[2]*y[0]+c[3]*t]\n",
    "    return dydt\n",
    "\n",
    "# %% Define time spans, initial values, and constants\n",
    "tspan = np.linspace(0, 5, 100)\n",
    "yinit = [0, -3]\n",
    "c = [4, 3, -2, 0.5]\n",
    "\n",
    "# %% Solve differential equation\n",
    "sol = solve_ivp(lambda t, y: f(t, y, c), [tspan[0], tspan[-1]], yinit, t_eval=tspan)\n",
    "\n",
    "# %% Plot states\n",
    "state_plotter(sol.t, sol.y, 1)"
   ]
  },
  {
   "cell_type": "code",
   "execution_count": null,
   "metadata": {},
   "outputs": [],
   "source": []
  }
 ],
 "metadata": {
  "kernelspec": {
   "display_name": "Python 2",
   "language": "python",
   "name": "python2"
  },
  "language_info": {
   "codemirror_mode": {
    "name": "ipython",
    "version": 2
   },
   "file_extension": ".py",
   "mimetype": "text/x-python",
   "name": "python",
   "nbconvert_exporter": "python",
   "pygments_lexer": "ipython2",
   "version": "2.7.10"
  }
 },
 "nbformat": 4,
 "nbformat_minor": 2
}
